{
 "cells": [
  {
   "cell_type": "markdown",
   "metadata": {
    "urth": {
     "dashboard": {
      "layout": {
       "col": 0,
       "height": 2,
       "row": 0,
       "width": 12
      }
     }
    }
   },
   "source": [
    "# Jupyter Notebook 2015 UX Survey Results"
   ]
  },
  {
   "cell_type": "markdown",
   "metadata": {
    "urth": {
     "dashboard": {
      "hidden": true
     }
    }
   },
   "source": [
    "<div class=\"alert alert-info\"><b>Note:</b> This notebook contains the same information as <a href=\"report_dashboard.ipynb\">report_dashboard.ipynb</a> but includes more interactive widgets from the jupyter-incubator/declarativewidgets project. Many thanks to <a href=\"https://github.com/peller\">@peller</a> and <a href=\"https://github.com/aluu317\">@aluu317</a> for improving the experience.</div>"
   ]
  },
  {
   "cell_type": "markdown",
   "metadata": {
    "urth": {
     "dashboard": {
      "layout": {
       "col": 0,
       "height": 20,
       "row": 2,
       "width": 12
      }
     }
    }
   },
   "source": [
    "## Executive Summary\n",
    "\n",
    "The following are the key takeaways from our analysis of the survey response data. The remainder of this notebook gives evidence for these points.\n",
    "\n",
    "**Experienced Users**\n",
    "\n",
    "People who use Jupyter frequently (daily/weekly), who have been using it for more than a year, and who have been in their job role for 2+ years are most heavily represented in the survey data. The majority of respondants self-identify as data scientists, students, scientists, and researchers.\n",
    "\n",
    "**Like the Notebook Concept**\n",
    "\n",
    "Unsurprisingly, respondents state that they like the ability to quickly analyze, visualize, explore, and describe data in rich notebook documents that they can share. As such, the interactive computing paradigm should remain central to the user experience and continue to improve over time.\n",
    "\n",
    "**Need More than Notebooks**\n",
    "\n",
    "Respondents find that the Jupyter Notebook lacks features they require to complete their data analytics workflow. To address these gaps, the respondents request a wide variety of features and integrations. The most common requests are the following:\n",
    "\n",
    "* Version control (via git in particular)\n",
    "* Robust text and code editing (like in Emacs, Vim, Sublime, PyCharm)\n",
    "* Advanced code development tools (debugging, profiling, variable watching, code modularization)\n",
    "* Simpler export and deployment options (one-click transformations to slides, scripts, reports) \n",
    "\n",
    "The project roadmap should incorporate these suggestions to ensure that Jupyter continues to address the needs of end users.\n",
    "\n",
    "**Need More Help**\n",
    "\n",
    "Respondents state that installation of Jupyter Notebook should be easier to perform and understand, both for single users and groups of users. Respondents commonly cite documentation, tutorials, and help as ways to improve the situtation."
   ]
  },
  {
   "cell_type": "markdown",
   "metadata": {
    "urth": {
     "dashboard": {
      "hidden": true
     }
    }
   },
   "source": [
    "## About the Survey\n",
    "\n",
    "In late 2015, members of the Jupyter Community conducted a 16-question survey about the Jupyter Notebook user experience. The survey ran on [SurveyGizmo](https://www.surveygizmo.com/) from December 21, 2015 until January 15, 2016. Posts on the [Project Jupyter Google Group](https://groups.google.com/forum/#!topic/jupyter/XCzJ02Rzj0Y), on the [Jupyter blog](http://blog.jupyter.org/2015/12/22/jupyter-notebook-user-experience-survey/), and from the [@ProjectJupyter Twitter account](https://twitter.com/ProjectJupyter/status/684096608166776832) were used to share the survey link and solicit responses. At the conclusion of the survey, the raw response data were [posted to GitHub](https://github.com/jupyter/design/tree/master/surveys/2015-notebook-ux) along with a description of the data format."
   ]
  },
  {
   "cell_type": "markdown",
   "metadata": {
    "urth": {
     "dashboard": {
      "hidden": true
     }
    }
   },
   "source": [
    "## About our Analysis\n",
    "\n",
    "Starting with the raw response data, we ([@parente](https://github.com/parente), [@jtyberg](https://github.com/jtyberg)):\n",
    "\n",
    "1. Toyed with ways to [extract the salient points from the free text responses](prep/1_ux_survey_review.ipynb)\n",
    "2. Made the data [more pandas-friendly](prep/2_clean_survey.ipynb)\n",
    "3. Tried a few different approaches to [identifying keyword patterns and aggregating them into themes](prep/3a_hinderance_themes.ipynb)\n",
    "4. Repeated our keyword pattern search and theme annotation approach (see below) across all remaining free-text questions (e.g., [integration](prep/3b_integration_themes.ipynb), [needs addressed](prep/3c_needs_addressed_themes.ipynb), [needs not addressed](prep/3d_needs_not_addressed_themes.ipynb), etc.)\n",
    "5. Summarized our findings in this notebook.\n",
    "\n",
    "Step #4 constituted the bulk of the analysis work. The notebooks in the [prep](prep/) folder have all the details. The next section includes a brief summary of key terms from our methodology that are used in this report."
   ]
  },
  {
   "cell_type": "markdown",
   "metadata": {
    "urth": {
     "dashboard": {
      "hidden": true
     }
    }
   },
   "source": [
    "## About this Notebook\n",
    "\n",
    "In this notebook, we lend evidence to the claims made in the executive summary at the top of this notebook. We include written observations, plots, and interactive widgets for exploring the results.\n",
    "\n",
    "You may:\n",
    "\n",
    "1. View the [report_dashboard.ipynb](report_dashboard.ipynb) notebook as a static webpage on [NBViewer](https://nbviewer.jupyter.org/github/jupyter/design/blob/master/surveys/2015-notebook-ux/analysis/report_dashboard.ipynb) or [GitHub](https://github.com/jupyter/design/blob/master/surveys/2015-notebook-ux/analysis/report_dashboard.ipynb). (No interactivity, one plot per section)\n",
    "2. Interact with the widgets in this notebook on a temporary notebook server provided by a [tmpnb site](http://jupyter.cloudet.xyz/notebooks/2015-notebook-ux-survey/analysis/report_dashboard_decl_widgets.ipynb). (Plot keywords vs themes, group by respondent categories, show counts or precentages within groups, modify the code yourself, click a bar to see a random sample of responses, click *View &rarr; Dashboard Preview* to see just the output)\n",
    "3. Interact with a standalone dashboard application bundled and deployed from this notebook on a [tmpnb site](http://jupyter.cloudet.xyz/files/2015-notebook-ux-survey/analysis/deployed_dashboard/index.html).\n",
    "4. Clone the [jupyter/design](https://github.com/jupyter/design) repository from GitHub and put the notebooks / data on a Jupyter server of your choosing."
   ]
  },
  {
   "cell_type": "markdown",
   "metadata": {
    "urth": {
     "dashboard": {
      "layout": {
       "col": 0,
       "height": 9,
       "row": 22,
       "width": 12
      }
     }
    }
   },
   "source": [
    "<a name=\"key-terms\"></a>\n",
    "<div class=\"alert alert-info\"><b>Key Terms</b>\n",
    "<p>To best understand and interact with the plots below, keep the following in mind:</p>\n",
    "\n",
    "<ul>\n",
    "<li><b>Respondents</b> did not necessarily answer every survey question. We considered the available responses, regardless of whether the user answered other questions or not. As a result, the total response count varies across the plots below, especially when grouping by other response categories.</li>\n",
    "<li><b>Keyword patterns</b> are the common regular expression patterns we identified by sampling the responses. They represent terms and phrases that actually appear in the free-text responses. We optimized these for recall more than precision.</li>\n",
    "<li><b>Annotator themes</b> are our subjective groupings of keyword patterns. They are an attempt to identify common topics within the responses.</li>\n",
    "</ul>\n",
    "</div>"
   ]
  },
  {
   "cell_type": "markdown",
   "metadata": {
    "urth": {
     "dashboard": {
      "hidden": true
     }
    }
   },
   "source": [
    "### Notebook Setup\n",
    "\n",
    "If you want to run this notebook yourself in your own environment, ensure you have all of the  the following:\n",
    "\n",
    "```\n",
    "numpy==1.10.4\n",
    "matplotlib==1.5.1\n",
    "seaborn==0.7.0\n",
    "ipywidgets==4.1.1\n",
    "jupyter_cms==0.4.0\n",
    "pandas==0.18.0\n",
    "jupyter-declarativewidgets==0.6.0\n",
    "jupyter-dashboards==0.4.2 (optional)\n",
    "```"
   ]
  },
  {
   "cell_type": "code",
   "execution_count": null,
   "metadata": {
    "collapsed": true
   },
   "outputs": [],
   "source": [
    "!pip install jupyter_cms"
   ]
  },
  {
   "cell_type": "code",
   "execution_count": null,
   "metadata": {
    "collapsed": false,
    "urth": {
     "dashboard": {
      "hidden": true
     }
    }
   },
   "outputs": [],
   "source": [
    "import warnings\n",
    "import declarativewidgets as widgets\n",
    "\n",
    "warnings.simplefilter('ignore')\n",
    "widgets.init()"
   ]
  },
  {
   "cell_type": "markdown",
   "metadata": {
    "urth": {
     "dashboard": {
      "hidden": true
     }
    }
   },
   "source": [
    "Import declarative widgets used in this notebook, including the custom survey explorer widget:\n",
    "\n",
    "```\n",
    "prep/widgets/survey-explorer/survey-explorer.html\n",
    "```"
   ]
  },
  {
   "cell_type": "code",
   "execution_count": null,
   "metadata": {
    "collapsed": false,
    "urth": {
     "dashboard": {
      "hidden": true
     }
    }
   },
   "outputs": [],
   "source": [
    "%%html\n",
    "<link rel='import' href='urth_components/paper-toggle-button/paper-toggle-button.html'\n",
    "        is='urth-core-import' package='PolymerElements/paper-toggle-button'>\n",
    "<link rel=\"import\" href=\"urth_components/paper-menu/paper-menu.html\"\n",
    "        is='urth-core-import' package='PolymerElements/paper-menu'>\n",
    "<link rel=\"import\" href=\"urth_components/paper-item/paper-item.html\" \n",
    "        is='urth-core-import' package='PolymerElements/paper-item'>\n",
    "<link rel=\"import\" href=\"urth_components/paper-dropdown-menu/paper-dropdown-menu.html\"\n",
    "        is='urth-core-import' package='PolymerElements/paper-dropdown-menu'>\n",
    "<link rel=\"import\" href=\"urth_components/urth-core-function/urth-core-function.html\" is='urth-core-import'>\n",
    "<link rel='import' href='urth_components/urth-viz-bar/urth-viz-bar.html' is='urth-core-import'>\n",
    "<link rel='import' href='urth_components/urth-viz-table/urth-viz-table.html' is='urth-core-import'>\n",
    "<link rel='import' href='prep/widgets/survey-explorer/survey-explorer.html'>"
   ]
  },
  {
   "cell_type": "code",
   "execution_count": null,
   "metadata": {
    "collapsed": false,
    "urth": {
     "dashboard": {
      "hidden": true
     }
    }
   },
   "outputs": [],
   "source": [
    "import os\n",
    "import glob\n",
    "import pandas as pd"
   ]
  },
  {
   "cell_type": "code",
   "execution_count": null,
   "metadata": {
    "collapsed": false,
    "urth": {
     "dashboard": {
      "hidden": true
     }
    }
   },
   "outputs": [],
   "source": [
    "%load_ext jupyter_cms"
   ]
  },
  {
   "cell_type": "markdown",
   "metadata": {
    "urth": {
     "dashboard": {
      "hidden": true
     }
    }
   },
   "source": [
    "Read the responses with shortened column names."
   ]
  },
  {
   "cell_type": "code",
   "execution_count": null,
   "metadata": {
    "collapsed": true,
    "urth": {
     "dashboard": {
      "hidden": true
     }
    }
   },
   "outputs": [],
   "source": [
    "df = pd.read_csv('./prep/survey_short_columns.csv', index_col=0)"
   ]
  },
  {
   "cell_type": "markdown",
   "metadata": {
    "urth": {
     "dashboard": {
      "hidden": true
     }
    }
   },
   "source": [
    "Merge in the themes and keywords for the free-text questions."
   ]
  },
  {
   "cell_type": "code",
   "execution_count": null,
   "metadata": {
    "collapsed": false,
    "urth": {
     "dashboard": {
      "hidden": true
     }
    }
   },
   "outputs": [],
   "source": [
    "files = glob.glob('./prep/*_themes.csv')\n",
    "files.append('./prep/roles.csv')\n",
    "for fn in files:\n",
    "    theme_df = pd.read_csv(fn, sep=';', index_col=0)\n",
    "    df = df.merge(theme_df, left_index=True, right_index=True, how='left')"
   ]
  },
  {
   "cell_type": "markdown",
   "metadata": {
    "urth": {
     "dashboard": {
      "hidden": true
     }
    }
   },
   "source": [
    "Cut-down the number of primary roles for better plotting. Keep the top 8 and bin the rest as \"other\"."
   ]
  },
  {
   "cell_type": "code",
   "execution_count": null,
   "metadata": {
    "collapsed": false,
    "urth": {
     "dashboard": {
      "hidden": true
     }
    }
   },
   "outputs": [],
   "source": [
    "top_roles = df.roles_primary.value_counts()[:8].index"
   ]
  },
  {
   "cell_type": "code",
   "execution_count": null,
   "metadata": {
    "collapsed": false,
    "urth": {
     "dashboard": {
      "hidden": true
     }
    }
   },
   "outputs": [],
   "source": [
    "df.loc[~df.roles_primary.isnull() & ~df.roles_primary.isin(top_roles), 'roles_primary'] = 'other'"
   ]
  },
  {
   "cell_type": "code",
   "execution_count": null,
   "metadata": {
    "collapsed": false,
    "urth": {
     "dashboard": {
      "hidden": true
     }
    }
   },
   "outputs": [],
   "source": [
    "df.roles_primary.value_counts()"
   ]
  },
  {
   "cell_type": "markdown",
   "metadata": {
    "urth": {
     "dashboard": {
      "hidden": true
     }
    }
   },
   "source": [
    "Read the utils notebook which has all the plotting and widget routines. (We didn't want them all in here cluttering the static report.)"
   ]
  },
  {
   "cell_type": "code",
   "execution_count": null,
   "metadata": {
    "collapsed": false,
    "urth": {
     "dashboard": {}
    }
   },
   "outputs": [],
   "source": [
    "utils = load_notebook('./prep/5_utils.ipynb')\n",
    "# Make functions in utils available here for widgets\n",
    "exploreDataFrame = utils.exploreDataFrame\n",
    "getSample = utils.getSample\n",
    "# Make the full DataFrame available in utils for widgets\n",
    "utils.set_survey_df(df)\n",
    "# When we group repsonses by primary role, order the legend from the largest cadre to the smallest.\n",
    "utils.group_orders['roles_primary'] = top_roles.tolist()"
   ]
  },
  {
   "cell_type": "markdown",
   "metadata": {
    "urth": {
     "dashboard": {
      "layout": {
       "col": 0,
       "height": 4,
       "row": 31,
       "width": 12
      }
     }
    }
   },
   "source": [
    "## About the Survey Respondents\n",
    "\n",
    "We start with information about the respondants themselves. Most of the questions in this section have a fixed set of possible responses. Only one allows for free text responses."
   ]
  },
  {
   "cell_type": "markdown",
   "metadata": {
    "urth": {
     "dashboard": {
      "layout": {
       "col": 0,
       "height": 3,
       "row": 35,
       "width": 12
      }
     }
    }
   },
   "source": [
    "### How often do you use Jupyter Notebook?"
   ]
  },
  {
   "cell_type": "markdown",
   "metadata": {
    "urth": {
     "dashboard": {
      "layout": {
       "col": 0,
       "height": 4,
       "row": 38,
       "width": 2
      }
     }
    }
   },
   "source": [
    "The majority of respondants use the notebook on a daily and weekly basis."
   ]
  },
  {
   "cell_type": "code",
   "execution_count": null,
   "metadata": {
    "collapsed": false,
    "urth": {
     "dashboard": {
      "hidden": true
     }
    }
   },
   "outputs": [],
   "source": [
    "how_often_counts = df.how_often.value_counts().reindex(utils.group_orders['how_often'])\n",
    "how_often_dataframe = pd.DataFrame(how_often_counts).reset_index()\n",
    "how_often_dataframe"
   ]
  },
  {
   "cell_type": "code",
   "execution_count": null,
   "metadata": {
    "collapsed": false,
    "urth": {
     "dashboard": {
      "layout": {
       "col": 2,
       "height": 17,
       "row": 38,
       "width": 10
      }
     }
    }
   },
   "outputs": [],
   "source": [
    "%%html\n",
    "<template is=\"dom-bind\">\n",
    "    <urth-core-dataframe ref=\"how_often_dataframe\" value=\"{{df}}\" auto></urth-core-dataframe>\n",
    "    <urth-viz-bar xlabel=\"Notebook Usage\" ylabel=\"Respondants\" datarows=\"{{df.data}}\" columns=\"{{df.columns}}\"></urth-viz-bar>\n",
    "</template>"
   ]
  },
  {
   "cell_type": "markdown",
   "metadata": {
    "urth": {
     "dashboard": {
      "layout": {
       "col": 0,
       "height": 2,
       "row": 55,
       "width": 12
      }
     }
    }
   },
   "source": [
    "### Roughly how long have you been using Jupyter Notebook?"
   ]
  },
  {
   "cell_type": "markdown",
   "metadata": {
    "urth": {
     "dashboard": {
      "layout": {
       "col": 0,
       "height": 18,
       "row": 57,
       "width": 2
      }
     }
    }
   },
   "source": [
    "The majority of respondents have been Jupyter Notebook users for longer than a year."
   ]
  },
  {
   "cell_type": "code",
   "execution_count": null,
   "metadata": {
    "collapsed": false,
    "urth": {
     "dashboard": {
      "hidden": true
     }
    }
   },
   "outputs": [],
   "source": [
    "how_long_counts = df.how_long_used.value_counts().reindex(utils.group_orders['how_long_used'])\n",
    "how_long_dataframe = pd.DataFrame(how_long_counts).reset_index()\n",
    "how_long_dataframe"
   ]
  },
  {
   "cell_type": "code",
   "execution_count": null,
   "metadata": {
    "collapsed": false,
    "urth": {
     "dashboard": {
      "layout": {
       "col": 2,
       "height": 18,
       "row": 57,
       "width": 10
      }
     }
    }
   },
   "outputs": [],
   "source": [
    "%%html\n",
    "<template is=\"dom-bind\">\n",
    "    <urth-core-dataframe ref=\"how_long_dataframe\" value=\"{{df}}\" auto></urth-core-dataframe>\n",
    "    <urth-viz-bar xlabel=\"Notebook Experience\" ylabel=\"Respondants\" datarows=\"{{df.data}}\" columns=\"{{df.columns}}\"></urth-viz-bar>\n",
    "</template>"
   ]
  },
  {
   "cell_type": "markdown",
   "metadata": {
    "urth": {
     "dashboard": {
      "layout": {
       "col": 0,
       "height": 7,
       "row": 75,
       "width": 2
      }
     }
    }
   },
   "source": [
    "The distribution of frequency of use is skewed toward daily/weekly in both the more and less experienced user groups."
   ]
  },
  {
   "cell_type": "code",
   "execution_count": null,
   "metadata": {
    "collapsed": false,
    "urth": {
     "dashboard": {
      "hidden": true
     }
    }
   },
   "outputs": [],
   "source": [
    "long_x_often = pd.crosstab(df.how_long_used, df.how_often)\n",
    "long_x_often = long_x_often.reindex(utils.group_orders['how_long_used'], utils.group_orders['how_often'])\n",
    "long_x_often.columns.name = 'Notebook Usage'\n",
    "long_x_often_dataframe = pd.DataFrame(long_x_often).reset_index()\n",
    "long_x_often_dataframe"
   ]
  },
  {
   "cell_type": "code",
   "execution_count": null,
   "metadata": {
    "collapsed": false,
    "urth": {
     "dashboard": {
      "layout": {
       "col": 2,
       "height": 18,
       "row": 75,
       "width": 10
      }
     }
    }
   },
   "outputs": [],
   "source": [
    "%%html\n",
    "<template is=\"dom-bind\">\n",
    "    <urth-core-dataframe ref=\"long_x_often_dataframe\" value=\"{{df}}\" auto></urth-core-dataframe>\n",
    "    <urth-viz-bar xlabel=\"Notebook Experience\" ylabel=\"Respondants\" datarows=\"{{df.data}}\" columns=\"{{df.columns}}\"></urth-viz-bar>\n",
    "</template>"
   ]
  },
  {
   "cell_type": "markdown",
   "metadata": {
    "urth": {
     "dashboard": {
      "layout": {
       "col": 0,
       "height": 2,
       "row": 93,
       "width": 12
      }
     }
    }
   },
   "source": [
    "### What is your primary role when using Jupyter Notebook (e.g., student, astrophysicist, financial modeler, business manager, etc.)?"
   ]
  },
  {
   "cell_type": "markdown",
   "metadata": {
    "urth": {
     "dashboard": {
      "layout": {
       "col": 0,
       "height": 10,
       "row": 95,
       "width": 2
      }
     }
    }
   },
   "source": [
    "Most respondents name a single job role (e.g., data scientist). Some state more than one (e.g., student, practicing statistician). Data scientist, student, scientist, researcher, and developer are the most common."
   ]
  },
  {
   "cell_type": "code",
   "execution_count": null,
   "metadata": {
    "collapsed": false,
    "scrolled": false,
    "urth": {
     "dashboard": {
      "layout": {
       "col": 2,
       "height": 32,
       "row": 95,
       "width": 10
      }
     }
    }
   },
   "outputs": [],
   "source": [
    "%%html\n",
    "<survey-explorer series='[\"roles_roles\", \"roles_keywords\"]' sample-source='[\"roles_roles\"]'  labels='[\"Annotator themes\", \"Keyword patterns\"]'/>"
   ]
  },
  {
   "cell_type": "markdown",
   "metadata": {
    "urth": {
     "dashboard": {
      "layout": {
       "col": 0,
       "height": 2,
       "row": 127,
       "width": 12
      }
     }
    }
   },
   "source": [
    "### How many years have you been in this role?"
   ]
  },
  {
   "cell_type": "markdown",
   "metadata": {
    "urth": {
     "dashboard": {
      "layout": {
       "col": 0,
       "height": 7,
       "row": 129,
       "width": 2
      }
     }
    }
   },
   "source": [
    "Most respondents have 2+ years of experience in their job role."
   ]
  },
  {
   "cell_type": "code",
   "execution_count": null,
   "metadata": {
    "collapsed": false,
    "urth": {
     "dashboard": {
      "hidden": true
     }
    }
   },
   "outputs": [],
   "source": [
    "counts = df.years_in_role.value_counts()\n",
    "counts = counts.reindex(utils.group_orders['years_in_role'])\n",
    "yearcounts_dataframe = pd.DataFrame(counts).reset_index()\n",
    "yearcounts_dataframe"
   ]
  },
  {
   "cell_type": "code",
   "execution_count": null,
   "metadata": {
    "collapsed": false,
    "urth": {
     "dashboard": {
      "layout": {
       "col": 2,
       "height": 18,
       "row": 129,
       "width": 10
      }
     }
    }
   },
   "outputs": [],
   "source": [
    "%%html\n",
    "<template is=\"dom-bind\">\n",
    "    <urth-core-dataframe ref=\"yearcounts_dataframe\" value=\"{{df}}\" auto></urth-core-dataframe>\n",
    "    <urth-viz-bar xlabel=\"Years in Job Role\" ylabel=\"Respondants\" datarows=\"{{df.data}}\" columns=\"{{df.columns}}\"></urth-viz-bar>\n",
    "</template>"
   ]
  },
  {
   "cell_type": "markdown",
   "metadata": {
    "urth": {
     "dashboard": {
      "layout": {
       "col": 0,
       "height": 2,
       "row": 147,
       "width": 12
      }
     }
    }
   },
   "source": [
    "### How do you run the Jupyter Notebook?"
   ]
  },
  {
   "cell_type": "markdown",
   "metadata": {
    "urth": {
     "dashboard": {
      "layout": {
       "col": 0,
       "height": 18,
       "row": 149,
       "width": 2
      }
     }
    }
   },
   "source": [
    "The vast majority of respondants run Jupyter as a standalone application."
   ]
  },
  {
   "cell_type": "code",
   "execution_count": null,
   "metadata": {
    "collapsed": false,
    "urth": {
     "dashboard": {
      "hidden": true
     }
    }
   },
   "outputs": [],
   "source": [
    "counts = df.how_run.value_counts()\n",
    "counts = counts.reindex(utils.group_orders['how_run'])\n",
    "howrun_counts_dataframe = pd.DataFrame(counts).reset_index()\n",
    "howrun_counts_dataframe"
   ]
  },
  {
   "cell_type": "code",
   "execution_count": null,
   "metadata": {
    "collapsed": false,
    "urth": {
     "dashboard": {
      "layout": {
       "col": 2,
       "height": 18,
       "row": 149,
       "width": 10
      }
     }
    }
   },
   "outputs": [],
   "source": [
    "%%html\n",
    "<template is=\"dom-bind\">\n",
    "    <urth-core-dataframe ref=\"howrun_counts_dataframe\" value=\"{{df}}\" auto></urth-core-dataframe>\n",
    "    <urth-viz-bar xlabel=\"Notebook Environment\" ylabel=\"Respondants\" datarows=\"{{df.data}}\" columns=\"{{df.columns}}\"></urth-viz-bar>\n",
    "</template>"
   ]
  },
  {
   "cell_type": "markdown",
   "metadata": {
    "urth": {
     "dashboard": {
      "layout": {
       "col": 0,
       "height": 7,
       "row": 167,
       "width": 2
      }
     }
    }
   },
   "source": [
    "Write-in responses vary widely. Many are more specific versions of \"as a standalone application.\""
   ]
  },
  {
   "cell_type": "code",
   "execution_count": null,
   "metadata": {
    "collapsed": false,
    "scrolled": false,
    "urth": {
     "dashboard": {
      "layout": {
       "col": 2,
       "height": 17,
       "row": 167,
       "width": 10
      }
     }
    }
   },
   "outputs": [],
   "source": [
    "df.how_run_other.dropna().sample(15).to_frame('Random sample of 15 write-in responses').reset_index(drop=True)"
   ]
  },
  {
   "cell_type": "markdown",
   "metadata": {
    "urth": {
     "dashboard": {
      "layout": {
       "col": 0,
       "height": 4,
       "row": 184,
       "width": 12
      }
     }
    }
   },
   "source": [
    "### How many people typically see and/or interact with the results of your work in Jupyter Notebook? \n",
    "\n",
    "*Consider people who view your notebooks on nbviewer, colleagues who rerun your notebooks, developers who star your notebook repos on GitHub, audiences who see your notebooks as slideshows, etc.*"
   ]
  },
  {
   "cell_type": "markdown",
   "metadata": {
    "urth": {
     "dashboard": {
      "layout": {
       "col": 0,
       "height": 7,
       "row": 188,
       "width": 2
      }
     }
    }
   },
   "source": [
    "Most of the respondents create notebooks for tens or hundreds of users. Few write for thousands of users or more."
   ]
  },
  {
   "cell_type": "code",
   "execution_count": null,
   "metadata": {
    "collapsed": false,
    "urth": {
     "dashboard": {
      "hidden": true
     }
    }
   },
   "outputs": [],
   "source": [
    "counts = df.audience_size.value_counts()\n",
    "counts = counts.reindex(utils.group_orders['audience_size'])\n",
    "audiencesize_dataframe = pd.DataFrame(counts).reset_index()\n",
    "audiencesize_dataframe"
   ]
  },
  {
   "cell_type": "code",
   "execution_count": null,
   "metadata": {
    "collapsed": false,
    "urth": {
     "dashboard": {
      "layout": {
       "col": 2,
       "height": 18,
       "row": 188,
       "width": 10
      }
     }
    }
   },
   "outputs": [],
   "source": [
    "%%html\n",
    "<template is=\"dom-bind\">\n",
    "    <urth-core-dataframe ref=\"audiencesize_dataframe\" value=\"{{df}}\" auto></urth-core-dataframe>\n",
    "    <urth-viz-bar xlabel=\"Typical Notebook Audience\" ylabel=\"Respondants\" datarows=\"{{df.data}}\" columns=\"{{df.columns}}\"></urth-viz-bar>\n",
    "</template>"
   ]
  },
  {
   "cell_type": "markdown",
   "metadata": {
    "urth": {
     "dashboard": {
      "layout": {
       "col": 0,
       "height": 4,
       "row": 206,
       "width": 12
      }
     }
    }
   },
   "source": [
    "## What the Respondents Said\n",
    "\n",
    "Now we look at responses to questions about the notebook. All of the questions in this section have free-text responses. Revisit the blue **Key Terms** section at the top for help reading the plots."
   ]
  },
  {
   "cell_type": "markdown",
   "metadata": {
    "urth": {
     "dashboard": {
      "layout": {
       "col": 0,
       "height": 2,
       "row": 210,
       "width": 12
      }
     }
    }
   },
   "source": [
    "### What needs in your workflow does Jupyter Notebook address?"
   ]
  },
  {
   "cell_type": "markdown",
   "metadata": {
    "urth": {
     "dashboard": {
      "layout": {
       "col": 0,
       "height": 12,
       "row": 212,
       "width": 2
      }
     }
    }
   },
   "source": [
    "Respondents frequently indicate that Jupyter Notebook addresses their need to analyze, explore, visualize, interact with, and document data quickly and easily."
   ]
  },
  {
   "cell_type": "code",
   "execution_count": null,
   "metadata": {
    "collapsed": false,
    "scrolled": false,
    "urth": {
     "dashboard": {
      "layout": {
       "col": 2,
       "height": 33,
       "row": 212,
       "width": 10
      }
     }
    }
   },
   "outputs": [],
   "source": [
    "%%html\n",
    "<survey-explorer series='[\"workflow_needs_addressed_keywords\", \"workflow_needs_addressed_themes\"]' \n",
    "    sample-source='[\"workflow_needs_addressed_1\", \"workflow_needs_addressed_2\", \"workflow_needs_addressed_3\"]'/>"
   ]
  },
  {
   "cell_type": "markdown",
   "metadata": {
    "urth": {
     "dashboard": {
      "layout": {
       "col": 0,
       "height": 2,
       "row": 245,
       "width": 12
      }
     }
    }
   },
   "source": [
    "### What aspects of Jupyter Notebook make it pleasant to use in your workflow?"
   ]
  },
  {
   "cell_type": "markdown",
   "metadata": {
    "urth": {
     "dashboard": {
      "layout": {
       "col": 0,
       "height": 10,
       "row": 247,
       "width": 2
      }
     }
    }
   },
   "source": [
    "Ease of use, the tight interactive workflow, and the ability to combine inline markup with rich media top the list of pleasant aspects noted by respondents."
   ]
  },
  {
   "cell_type": "code",
   "execution_count": null,
   "metadata": {
    "collapsed": false,
    "urth": {
     "dashboard": {
      "layout": {
       "col": 2,
       "height": 34,
       "row": 247,
       "width": 10
      }
     }
    }
   },
   "outputs": [],
   "source": [
    "%%html\n",
    "<survey-explorer series='[\"pleasant_aspects_keywords\", \"pleasant_aspects_themes\"]' \n",
    "    sample-source='[\"pleasant_aspects_1\", \"pleasant_aspects_2\", \"pleasant_aspects_3\"]'/>"
   ]
  },
  {
   "cell_type": "markdown",
   "metadata": {
    "urth": {
     "dashboard": {
      "layout": {
       "col": 0,
       "height": 2,
       "row": 281,
       "width": 12
      }
     }
    }
   },
   "source": [
    "### What, if anything, hinders you from making Jupyter Notebook an even more regular part of your workflow?"
   ]
  },
  {
   "cell_type": "markdown",
   "metadata": {
    "urth": {
     "dashboard": {
      "layout": {
       "col": 0,
       "height": 10,
       "row": 283,
       "width": 2
      }
     }
    }
   },
   "source": [
    "Respondants cite the need for better development tools as the main blocker more regular use of the notebook. More robust text editing capability, version control, cleaner integration with languages and tools, and better documentation all top the list."
   ]
  },
  {
   "cell_type": "code",
   "execution_count": null,
   "metadata": {
    "collapsed": false,
    "urth": {
     "dashboard": {
      "layout": {
       "col": 2,
       "height": 33,
       "row": 283,
       "width": 10
      }
     }
    }
   },
   "outputs": [],
   "source": [
    "%%html\n",
    "<survey-explorer series='[\"hinderances_keywords\", \"hinderances_themes\"]' sample-source='[\"hinderances\"]'/>"
   ]
  },
  {
   "cell_type": "markdown",
   "metadata": {
    "urth": {
     "dashboard": {
      "layout": {
       "col": 0,
       "height": 2,
       "row": 316,
       "width": 12
      }
     }
    }
   },
   "source": [
    "### What needs in your workflow does Jupyter Notebook not address?"
   ]
  },
  {
   "cell_type": "markdown",
   "metadata": {
    "urth": {
     "dashboard": {
      "layout": {
       "col": 0,
       "height": 8,
       "row": 318,
       "width": 2
      }
     }
    }
   },
   "source": [
    "As expected, nearly the same themes and keywords that top the hinderances list also top the list of workflow needs not addressed by the Jupyter Notebook today."
   ]
  },
  {
   "cell_type": "code",
   "execution_count": null,
   "metadata": {
    "collapsed": false,
    "urth": {
     "dashboard": {
      "layout": {
       "col": 2,
       "height": 33,
       "row": 318,
       "width": 10
      }
     }
    }
   },
   "outputs": [],
   "source": [
    "%%html\n",
    "<survey-explorer series='[\"workflow_needs_not_addressed_keywords\", \"workflow_needs_not_addressed_themes\"]' \n",
    "    sample-source='[\"workflow_needs_not_addressed_1\", \"workflow_needs_not_addressed_2\", \"workflow_needs_not_addressed_3\"]'/>"
   ]
  },
  {
   "cell_type": "markdown",
   "metadata": {
    "urth": {
     "dashboard": {
      "layout": {
       "col": 0,
       "height": 2,
       "row": 351,
       "width": 12
      }
     }
    }
   },
   "source": [
    "### What aspects of Jupyter Notebook make it difficult to use in your workflow?"
   ]
  },
  {
   "cell_type": "markdown",
   "metadata": {
    "urth": {
     "dashboard": {
      "layout": {
       "col": 0,
       "height": 9,
       "row": 353,
       "width": 2
      }
     }
    }
   },
   "source": [
    "Respondents most often report difficulty with code editing, installing the application, working in the browser, version controlling notebooks, and working without the support of a full IDE."
   ]
  },
  {
   "cell_type": "code",
   "execution_count": null,
   "metadata": {
    "collapsed": false,
    "urth": {
     "dashboard": {
      "layout": {
       "col": 2,
       "height": 33,
       "row": 353,
       "width": 10
      }
     }
    }
   },
   "outputs": [],
   "source": [
    "%%html\n",
    "<survey-explorer series='[\"difficult_aspects_keywords\", \"difficult_aspects_themes\"]' \n",
    "    sample-source='[\"difficult_aspects_1\", \"difficult_aspects_2\", \"difficult_aspects_3\"]'/>"
   ]
  },
  {
   "cell_type": "markdown",
   "metadata": {
    "urth": {
     "dashboard": {
      "layout": {
       "col": 0,
       "height": 2,
       "row": 386,
       "width": 12
      }
     }
    }
   },
   "source": [
    "### What tools and applications, if any, would you like to see more tightly integrated with Jupyter Notebook?"
   ]
  },
  {
   "cell_type": "markdown",
   "metadata": {
    "urth": {
     "dashboard": {
      "layout": {
       "col": 0,
       "height": 9,
       "row": 388,
       "width": 2
      }
     }
    }
   },
   "source": [
    "Git is by far and away the most oft requested integration. Specific tools like vim, d3, matplotlib, R and Spark as well as general concepts like interactivity, debugging, better editors, and version control are also mentioned frequently."
   ]
  },
  {
   "cell_type": "code",
   "execution_count": null,
   "metadata": {
    "collapsed": false,
    "urth": {
     "dashboard": {
      "layout": {
       "col": 2,
       "height": 33,
       "row": 388,
       "width": 10
      }
     }
    }
   },
   "outputs": [],
   "source": [
    "%%html\n",
    "<survey-explorer series='[\"integrations_keywords\", \"integrations_themes\"]' \n",
    "    sample-source='[\"integrations_1\", \"integrations_2\", \"integrations_3\"]'/>"
   ]
  },
  {
   "cell_type": "markdown",
   "metadata": {
    "urth": {
     "dashboard": {
      "layout": {
       "col": 0,
       "height": 3,
       "row": 421,
       "width": 12
      }
     }
    }
   },
   "source": [
    "### What new features or changes would you like to see in Jupyter Notebook?\n",
    "\n",
    "*Please list anything that comes to mind that helps you in your workflow, big or small.*"
   ]
  },
  {
   "cell_type": "markdown",
   "metadata": {
    "urth": {
     "dashboard": {
      "layout": {
       "col": 0,
       "height": 13,
       "row": 424,
       "width": 2
      }
     }
    }
   },
   "source": [
    "Version control with Git also tops the list of requested features and changes. Adding a workspace/IDE to the user experience, supporting custom styles (both visual and functional, ala keymaps), embedding ancillary tools (e.g., filebrowser sidebar), and behaving more like major text editors (e.g., Vim, Atom, Sublime) are also common requests."
   ]
  },
  {
   "cell_type": "code",
   "execution_count": null,
   "metadata": {
    "collapsed": false,
    "urth": {
     "dashboard": {
      "layout": {
       "col": 2,
       "height": 33,
       "row": 424,
       "width": 10
      }
     }
    }
   },
   "outputs": [],
   "source": [
    "%%html\n",
    "<survey-explorer series='[\"features_changes_keywords\", \"features_changes_themes\"]' \n",
    "    sample-source='[\"features_changes_1\", \"features_changes_2\", \"features_changes_3\"]'/>"
   ]
  },
  {
   "cell_type": "markdown",
   "metadata": {
    "urth": {
     "dashboard": {
      "layout": {
       "col": 0,
       "height": 3,
       "row": 457,
       "width": 12
      }
     }
    }
   },
   "source": [
    "### Thinking back to when you first started using Jupyter Notebook, what enhancements would have made your initial experience better?"
   ]
  },
  {
   "cell_type": "markdown",
   "metadata": {
    "urth": {
     "dashboard": {
      "layout": {
       "col": 0,
       "height": 9,
       "row": 460,
       "width": 2
      }
     }
    }
   },
   "source": [
    "Respondents most frequently name installation improvements, better documentation, a better keyboard map, and tutorials as enhancements that would have improved their first experience."
   ]
  },
  {
   "cell_type": "code",
   "execution_count": null,
   "metadata": {
    "collapsed": false,
    "urth": {
     "dashboard": {
      "layout": {
       "col": 2,
       "height": 33,
       "row": 460,
       "width": 10
      }
     }
    }
   },
   "outputs": [],
   "source": [
    "%%html\n",
    "<survey-explorer series='[\"first_experience_enhancements_keywords\", \"first_experience_enhancements_themes\"]' \n",
    "    sample-source='[\"first_experience_enhancements_1\", \"first_experience_enhancements_2\", \"first_experience_enhancements_3\"]'/>"
   ]
  },
  {
   "cell_type": "markdown",
   "metadata": {
    "urth": {
     "dashboard": {
      "layout": {
       "col": 0,
       "height": 2,
       "row": 493,
       "width": 12
      }
     }
    }
   },
   "source": [
    "### Select all the words that best describe Jupyter Notebook."
   ]
  },
  {
   "cell_type": "markdown",
   "metadata": {
    "urth": {
     "dashboard": {
      "layout": {
       "col": 0,
       "height": 33,
       "row": 495,
       "width": 2
      }
     }
    }
   },
   "source": [
    "Respondents select positive words to describe Jupyter Notebook far more often than negative words. The convenience of the notebook stands out."
   ]
  },
  {
   "cell_type": "code",
   "execution_count": null,
   "metadata": {
    "collapsed": true,
    "urth": {
     "dashboard": {}
    }
   },
   "outputs": [],
   "source": [
    "df['keywords_csv'] = df.keywords.str.replace(';',',')"
   ]
  },
  {
   "cell_type": "code",
   "execution_count": null,
   "metadata": {
    "collapsed": false,
    "scrolled": false,
    "urth": {
     "dashboard": {
      "layout": {
       "col": 2,
       "height": 33,
       "row": 495,
       "width": 10
      }
     }
    }
   },
   "outputs": [],
   "source": [
    "%%html\n",
    "<survey-explorer series='[\"keywords_csv\"]' sample-source='[\"keywords\", \"keywords_other\"]' labels='[\"Fixed keywords\"]'/>"
   ]
  },
  {
   "cell_type": "markdown",
   "metadata": {
    "urth": {
     "dashboard": {
      "layout": {
       "col": 0,
       "height": 4,
       "row": 528,
       "width": 2
      }
     }
    }
   },
   "source": [
    "*Powerful* tops the list of write-in responses. The long-tail varys quite a bit, with both positive and negative sentiments expressed."
   ]
  },
  {
   "cell_type": "code",
   "execution_count": null,
   "metadata": {
    "collapsed": false,
    "urth": {
     "dashboard": {
      "layout": {
       "col": 2,
       "height": 12,
       "row": 528,
       "width": 10
      }
     }
    }
   },
   "outputs": [],
   "source": [
    "df.keywords_other.str.lower().value_counts().head(10).to_frame('Respondents')"
   ]
  },
  {
   "cell_type": "markdown",
   "metadata": {
    "urth": {
     "dashboard": {
      "layout": {
       "col": 0,
       "height": 9,
       "row": 540,
       "width": 12
      }
     }
    }
   },
   "source": [
    "## Conclusion and Next Steps\n",
    "\n",
    "From this survey we learned that experienced users like the notebook concept for its simplicity in quickly exploring, visualizing, and describing data, but they need more than notebooks in their analytics workflow, and they suggest all users need more help getting started. Going forward, we recommend that the Jupyter community:\n",
    "\n",
    "* Constantly ensure that the Jupyter Notebook retains what users value today\n",
    "* Work solutions to the most common hinderances and feature requests into the Jupyter roadmap\n",
    "* Run more specific user experience studies / surveys in the future about major changes and additions \n",
    "    * For example, if a first pass of git integration lands on jupyter/notebook master, stand up a Binder with that feature enabled, and invite users to try it before landing it in a stable Jupyter release."
   ]
  }
 ],
 "metadata": {
  "kernelspec": {
   "display_name": "Python 3",
   "language": "python",
   "name": "python3"
  },
  "language_info": {
   "codemirror_mode": {
    "name": "ipython",
    "version": 3
   },
   "file_extension": ".py",
   "mimetype": "text/x-python",
   "name": "python",
   "nbconvert_exporter": "python",
   "pygments_lexer": "ipython3",
   "version": "3.5.1"
  },
  "urth": {
   "dashboard": {
    "cellMargin": 10,
    "defaultCellHeight": 20,
    "layoutStrategy": "stacked",
    "maxColumns": 12
   }
  }
 },
 "nbformat": 4,
 "nbformat_minor": 0
}
